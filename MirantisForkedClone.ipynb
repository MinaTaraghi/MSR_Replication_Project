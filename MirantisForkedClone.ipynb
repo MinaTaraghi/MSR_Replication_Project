{
  "cells": [
    {
      "cell_type": "code",
      "execution_count": null,
      "id": "58c07422",
      "metadata": {
        "id": "58c07422"
      },
      "outputs": [],
      "source": [
        "import pandas as pd\n",
        "import git\n",
        "\n",
        "# this coles all the forked Mirantis repos to local disk  \n",
        "# input file : '/Users/baharannouri/Desktop/MSR_Project/forkedExel.xlsx'\n",
        "# that has the name of all the Mirantis forked repositories\n",
        "df = pd.read_excel('/Users/baharannouri/Desktop/MSR_Project/forkedExel.xlsx') \n",
        "mylist = df['name'].tolist()\n",
        "for repname in mylist:\n",
        "    print('git.Git(\"/Users/baharannouri/MSR_forked\").clone(\"https://github.com/Mirantis/{repname}.git\")'.format(repname=repname))"
      ]
    },
    {
      "cell_type": "code",
      "execution_count": null,
      "id": "91b868b3",
      "metadata": {
        "id": "91b868b3",
        "outputId": "962453d4-702f-4212-d959-3b6c8e6247b3"
      },
      "outputs": [
        {
          "data": {
            "text/plain": [
              "''"
            ]
          },
          "execution_count": 5,
          "metadata": {},
          "output_type": "execute_result"
        }
      ],
      "source": [
        "import git \n",
        "\n",
        "git.Git(\"/Users/baharannouri/MSR_forked\").clone(\"https://github.com/Mirantis/nova.git\")\n",
        "git.Git(\"/Users/baharannouri/MSR_forked\").clone(\"https://github.com/Mirantis/magma.git\")\n",
        "git.Git(\"/Users/baharannouri/MSR_forked\").clone(\"https://github.com/Mirantis/keystone.git\")\n",
        "git.Git(\"/Users/baharannouri/MSR_forked\").clone(\"https://github.com/Mirantis/Virtualization-Documentation.git\")\n",
        "git.Git(\"/Users/baharannouri/MSR_forked\").clone(\"https://github.com/Mirantis/tempest.git\")\n",
        "git.Git(\"/Users/baharannouri/MSR_forked\").clone(\"https://github.com/Mirantis/openstack-horizon.git\")\n",
        "git.Git(\"/Users/baharannouri/MSR_forked\").clone(\"https://github.com/Mirantis/cli.git\")\n",
        "git.Git(\"/Users/baharannouri/MSR_forked\").clone(\"https://github.com/Mirantis/puppet-manifests.git\")\n",
        "git.Git(\"/Users/baharannouri/MSR_forked\").clone(\"https://github.com/Mirantis/puppetlabs-nova.git\")\n",
        "git.Git(\"/Users/baharannouri/MSR_forked\").clone(\"https://github.com/Mirantis/container.training.git\")\n",
        "git.Git(\"/Users/baharannouri/MSR_forked\").clone(\"https://github.com/Mirantis/puppetlabs-swift.git\")\n",
        "git.Git(\"/Users/baharannouri/MSR_forked\").clone(\"https://github.com/Mirantis/puppetlabs-stdlib.git\")\n",
        "git.Git(\"/Users/baharannouri/MSR_forked\").clone(\"https://github.com/Mirantis/docker-salt-formulas.git\")\n",
        "git.Git(\"/Users/baharannouri/MSR_forked\").clone(\"https://github.com/Mirantis/puppetlabs-openstack.git\")\n",
        "git.Git(\"/Users/baharannouri/MSR_forked\").clone(\"https://github.com/Mirantis/puppetlabs-keystone.git\")\n",
        "git.Git(\"/Users/baharannouri/MSR_forked\").clone(\"https://github.com/Mirantis/compose-on-kubernetes.git\")\n",
        "git.Git(\"/Users/baharannouri/MSR_forked\").clone(\"https://github.com/Mirantis/fuel-agent.git\")\n",
        "git.Git(\"/Users/baharannouri/MSR_forked\").clone(\"https://github.com/Mirantis/discovery.git\")\n",
        "git.Git(\"/Users/baharannouri/MSR_forked\").clone(\"https://github.com/Mirantis/puppet-galera.git\")\n",
        "git.Git(\"/Users/baharannouri/MSR_forked\").clone(\"https://github.com/Mirantis/puppetlabs-mysql.git\")\n",
        "git.Git(\"/Users/baharannouri/MSR_forked\").clone(\"https://github.com/Mirantis/puppetlabs-cinder.git\")\n",
        "git.Git(\"/Users/baharannouri/MSR_forked\").clone(\"https://github.com/Mirantis/puppetlabs-glance.git\")\n",
        "git.Git(\"/Users/baharannouri/MSR_forked\").clone(\"https://github.com/Mirantis/puppetlabs-apt.git\")\n",
        "git.Git(\"/Users/baharannouri/MSR_forked\").clone(\"https://github.com/Mirantis/puppetlabs-horizon.git\")\n",
        "git.Git(\"/Users/baharannouri/MSR_forked\").clone(\"https://github.com/Mirantis/puppetlabs-rabbitmq.git\")\n",
        "git.Git(\"/Users/baharannouri/MSR_forked\").clone(\"https://github.com/Mirantis/fuel-bootstrap-image-builder.git\")\n",
        "git.Git(\"/Users/baharannouri/MSR_forked\").clone(\"https://github.com/Mirantis/puppet-module-keepalived.git\")\n",
        "git.Git(\"/Users/baharannouri/MSR_forked\").clone(\"https://github.com/Mirantis/puppetlabs-git.git\")\n",
        "git.Git(\"/Users/baharannouri/MSR_forked\").clone(\"https://github.com/Mirantis/ruby-openstack.git\")\n",
        "git.Git(\"/Users/baharannouri/MSR_forked\").clone(\"https://github.com/Mirantis/puppet-mmm.git\")\n",
        "git.Git(\"/Users/baharannouri/MSR_forked\").clone(\"https://github.com/Mirantis/puppet-haproxy.git\")\n",
        "git.Git(\"/Users/baharannouri/MSR_forked\").clone(\"https://github.com/Mirantis/puppetlabs-vcsrepo.git\")\n",
        "git.Git(\"/Users/baharannouri/MSR_forked\").clone(\"https://github.com/Mirantis/libkv.git\")\n",
        "git.Git(\"/Users/baharannouri/MSR_forked\").clone(\"https://github.com/Mirantis/puppet-memcached.git\")\n",
        "git.Git(\"/Users/baharannouri/MSR_forked\").clone(\"https://github.com/Mirantis/puppet-ssh.git\")\n",
        "git.Git(\"/Users/baharannouri/MSR_forked\").clone(\"https://github.com/Mirantis/oscalkit.git\")\n",
        "git.Git(\"/Users/baharannouri/MSR_forked\").clone(\"https://github.com/Mirantis/puppet-concat.git\")"
      ]
    },
    {
      "cell_type": "code",
      "execution_count": null,
      "id": "25ba2c2d",
      "metadata": {
        "id": "25ba2c2d"
      },
      "outputs": [],
      "source": []
    }
  ],
  "metadata": {
    "kernelspec": {
      "display_name": "Python 3 (ipykernel)",
      "language": "python",
      "name": "python3"
    },
    "language_info": {
      "codemirror_mode": {
        "name": "ipython",
        "version": 3
      },
      "file_extension": ".py",
      "mimetype": "text/x-python",
      "name": "python",
      "nbconvert_exporter": "python",
      "pygments_lexer": "ipython3",
      "version": "3.9.6"
    },
    "colab": {
      "provenance": []
    }
  },
  "nbformat": 4,
  "nbformat_minor": 5
}